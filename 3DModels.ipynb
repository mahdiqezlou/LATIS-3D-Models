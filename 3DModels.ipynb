{
 "cells": [
  {
   "cell_type": "markdown",
   "id": "collectible-carry",
   "metadata": {},
   "source": [
    "# 3D Models :\n",
    "\n",
    "A notebook to keep track of resources and ideas I found ."
   ]
  },
  {
   "cell_type": "markdown",
   "id": "nutritional-alignment",
   "metadata": {},
   "source": [
    "## Relevant papers :\n",
    "\n",
    "This paper is a recnet review of the options :\n",
    "\n",
    "[Lan et. al. 2021](https://arxiv.org/pdf/2106.00152.pdf)\n"
   ]
  },
  {
   "cell_type": "markdown",
   "id": "suburban-electricity",
   "metadata": {},
   "source": [
    "## Presentation :\n",
    "\n",
    "SIGGRPH conference:\n",
    "\n",
    "[youtube](https://youtube.com/playlist?list=PLUPhVMQuDB_aWSKj7L_-3Ot_nxBze_YMy)\n",
    "\n",
    "[Their website](https://s2021.siggraph.org/)\n",
    "\n",
    "[Brian Kent](https://www.cv.nrao.edu/~bkent/computing/)\n"
   ]
  },
  {
   "cell_type": "markdown",
   "id": "intensive-tamil",
   "metadata": {},
   "source": [
    "## Softwares :\n",
    "\n",
    "Extenstions for Astro and blender : \n",
    "\n",
    "[Astroblend](http://www.astroblend.com/)\n"
   ]
  },
  {
   "cell_type": "code",
   "execution_count": null,
   "id": "healthy-annual",
   "metadata": {},
   "outputs": [],
   "source": []
  }
 ],
 "metadata": {
  "kernelspec": {
   "display_name": "Python 3",
   "language": "python",
   "name": "python3"
  },
  "language_info": {
   "codemirror_mode": {
    "name": "ipython",
    "version": 3
   },
   "file_extension": ".py",
   "mimetype": "text/x-python",
   "name": "python",
   "nbconvert_exporter": "python",
   "pygments_lexer": "ipython3",
   "version": "3.9.0"
  }
 },
 "nbformat": 4,
 "nbformat_minor": 5
}
